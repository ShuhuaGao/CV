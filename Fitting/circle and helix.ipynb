{
 "cells": [
  {
   "cell_type": "markdown",
   "metadata": {},
   "source": [
    "# Circle fitting 2D\n",
    "Reference:\n",
    "- [least squares circle fit.pdf](https://dtcenter.org/met/users/docs/write_ups/circle_fit.pdf) (PDF1)\n",
    "- [Least squares circle](http://scipy-cookbook.readthedocs.io/items/Least_Squares_Circle.html)"
   ]
  },
  {
   "cell_type": "code",
   "execution_count": 17,
   "metadata": {},
   "outputs": [],
   "source": [
    "import numpy as np\n",
    "import pandas as pd\n",
    "import matplotlib.pyplot as plt\n",
    "import scipy.linalg as linalg"
   ]
  },
  {
   "cell_type": "markdown",
   "metadata": {},
   "source": [
    "## data "
   ]
  },
  {
   "cell_type": "code",
   "execution_count": 18,
   "metadata": {},
   "outputs": [
    {
     "data": {
      "text/plain": [
       "Text(0,0.5,'y')"
      ]
     },
     "execution_count": 18,
     "metadata": {},
     "output_type": "execute_result"
    },
    {
     "data": {
      "image/png": "[encoded data removed]",
      "text/plain": [
       "<Figure size 432x432 with 1 Axes>"
      ]
     },
     "metadata": {},
     "output_type": "display_data"
    }
   ],
   "source": [
    "# data\n",
    "points = np.array([[1, 2, 5, 7, 9, 3, 5, 4, 6],\n",
    "                   [5.5, 6, 8, 7, 5, 7, 1, 1.7, 1.7]])\n",
    "x = points[0]\n",
    "y = points[1]\n",
    "\n",
    "fig = plt.figure(figsize=(6, 6))\n",
    "plt.plot(x, y, 'o')\n",
    "plt.grid(True)\n",
    "plt.xlim([-2, 12])\n",
    "plt.ylim([-2, 12])\n",
    "plt.xlabel('x')\n",
    "plt.ylabel('y')"
   ]
  },
  {
   "cell_type": "markdown",
   "metadata": {},
   "source": [
    "## least squares circle fit: algebraic method\n",
    "see PDF1\n",
    "Find three parameters $\\{x_c, y_c, R\\}$ such that the following cost function is minimized\n",
    "\\begin{equation}\n",
    "J = \\sum_i \\big( (x_i - x_c)^2 + (y_i - y_c)^2 - R^2 \\big)^2\n",
    "\\end{equation}\n",
    "To simplify the computation, the data points are first centered to have a mean of zero on each dimension, and define $\\alpha = R^2$."
   ]
  },
  {
   "cell_type": "code",
   "execution_count": 19,
   "metadata": {},
   "outputs": [],
   "source": [
    "u = x - np.mean(x)\n",
    "v = y - np.mean(y)\n",
    "Suu = np.sum(u ** 2)\n",
    "Suv = np.sum(u * v)\n",
    "Svv = np.sum(v ** 2)\n",
    "Suuu = np.sum(u ** 3)\n",
    "Suvv = np.sum(u * v * v)\n",
    "Svvv = np.sum(v ** 3)\n",
    "Svuu = np.sum(v * u * u)"
   ]
  },
  {
   "cell_type": "code",
   "execution_count": 20,
   "metadata": {},
   "outputs": [
    {
     "name": "stdout",
     "output_type": "stream",
     "text": [
      "[ 0.3387264  -0.12959296]\n"
     ]
    }
   ],
   "source": [
    "# Eq. 4 & 5 in PDF1\n",
    "left = np.array([[Suu, Suv], [Suv, Svv]])\n",
    "right = np.array([(Suuu + Suvv) / 2, (Svvv + Svuu) / 2])\n",
    "# left * ans = right (matrix multiplication)\n",
    "ans = linalg.inv(left).dot(right)\n",
    "print(ans)"
   ]
  },
  {
   "cell_type": "code",
   "execution_count": 21,
   "metadata": {},
   "outputs": [
    {
     "name": "stdout",
     "output_type": "stream",
     "text": [
      "0.3387264028915902 -0.12959295709130975\n"
     ]
    }
   ],
   "source": [
    "# the better way is to solve linear equations instead of inversing the matrix explicitly\n",
    "uc, vc = linalg.solve(left, right)\n",
    "print(uc, vc)\n",
    "xc = uc + np.mean(x)\n",
    "yc = vc + np.mean(y)"
   ]
  },
  {
   "cell_type": "code",
   "execution_count": 22,
   "metadata": {},
   "outputs": [
    {
     "name": "stdout",
     "output_type": "stream",
     "text": [
      "3.4435732280888427\n"
     ]
    }
   ],
   "source": [
    "# Eq.6\n",
    "alpha = uc ** 2 + vc**2 + (Suu + Svv) / len(u)\n",
    "R = np.sqrt(alpha)\n",
    "print(R)"
   ]
  },
  {
   "cell_type": "code",
   "execution_count": 23,
   "metadata": {},
   "outputs": [
    {
     "name": "stdout",
     "output_type": "stream",
     "text": [
      "Result of the algebraic method:  xc=5.005393069558258, yc=4.637073709575358, R=3.4435732280888427\n"
     ]
    }
   ],
   "source": [
    "print('Result of the algebraic method: ', f'xc={xc}, yc={yc}, R={R}')"
   ]
  },
  {
   "cell_type": "code",
   "execution_count": 24,
   "metadata": {},
   "outputs": [
    {
     "data": {
      "text/plain": [
       "Text(0,0.5,'y')"
      ]
     },
     "execution_count": 24,
     "metadata": {},
     "output_type": "execute_result"
    },
    {
     "data": {
      "image/png": "[encoded data removed]",
      "text/plain": [
       "<Figure size 432x432 with 1 Axes>"
      ]
     },
     "metadata": {},
     "output_type": "display_data"
    }
   ],
   "source": [
    "## visualize the results\n",
    "t = np.arange(0, 2*np.pi, 0.01)\n",
    "xm = R * np.cos(t) + xc\n",
    "ym = R * np.sin(t) + yc\n",
    "\n",
    "fig = plt.figure(figsize=(6, 6))\n",
    "plt.plot(x, y, 'o')\n",
    "plt.plot(xm, ym)\n",
    "plt.grid(True)\n",
    "plt.xlim([-2, 12])\n",
    "plt.ylim([-2, 12])\n",
    "plt.xlabel('x')\n",
    "plt.ylabel('y')\n"
   ]
  },
  {
   "cell_type": "markdown",
   "metadata": {},
   "source": [
    "## Solve with scipy.linalg: use another objectve to minimize the geometric distance\n",
    "A different objective can be adopted to first neglect $R$. We know that if the points are on a circle, then $r=\\sqrt{(x_i - x_c)^2 + (y_i - y_c)^2}$ should give the same value, i.e., $R$. Thus, compute this radius value for each point, and we try to find a certain pair of ${x_c, y_c}$ to minimize the variance of these $r$'s.\n",
    "\\begin{equation}\n",
    "J = \\sum_i (r - \\text{mean}(r))^2\n",
    "\\end{equation}\n",
    "**How to get the above objective?**\n",
    "\n",
    "In fact, we want to minimize the geometric distances from the points to the circle, defined as $||\\sqrt{(x_i - x_c)^2 + (y_i - y_c)^2} - R||$. Thus, the objective is\n",
    "\\begin{equation}\n",
    "J = \\sum_i (\\sqrt{(x_i - x_c)^2 + (y_i - y_c)^2} - R) ^ 2\n",
    "\\end{equation}\n",
    "Apparently, we can separate $R$, since once the center is determined, to minimized the above objection, the solution of R is \n",
    "\\begin{equation}\n",
    "R = \\frac{1}{N}\\sum_i \\sqrt{(x_i - x_c)^2 + (y_i - y_c)^2}\n",
    "\\end{equation}\n",
    "Sustituting $R$ into the above objective, we get the objective function with only ${x_c, y_c}$.\n",
    "\n",
    "**Comparison with the algebraic method**\n",
    "The first algebraic approach try to minimizes $|(x_i - x_c)^2 + (y_i - y_c)^2 - R^2|$ with no geometric meaning, while the geometric one tries to minimize $|\\sqrt{(x_i - x_c)^2 + (y_i - y_c)^2} - R|$. \n",
    "\n",
    ">> **The algebraic approximation gives good results when the points are all around the circle but is limited when there is only an arc to fit.** Indeed, the two errors functions to minimize are not equivalent when data points are not all exactly on a circle. The algebraic method leads in most of the case to a smaller radius than that of the least squares circle, as its error function is based on squared distances and not on the distance themselves. \n",
    "(http://scipy-cookbook.readthedocs.io/items/Least_Squares_Circle.html)\n",
    "\n",
    "To solve the nonlinear problem above, the [`scipy.optimize.leastsq`](https://docs.scipy.org/doc/scipy/reference/generated/scipy.optimize.leastsq.html) can be used.\n",
    "\n",
    "`scipy.optimize.leastsq(func, x0)`\n",
    "where `func` accepts a parameter vector of the same length as `x0` and returns N floating point numbers, usually a 1d array, say $e_1, e_2, \\cdots, e_N = func(\\cdot)$.  \n",
    "\\begin{equation}\n",
    "min \\sum_i^N e_i^2\n",
    "\\end{equation}\n"
   ]
  },
  {
   "cell_type": "code",
   "execution_count": 25,
   "metadata": {},
   "outputs": [],
   "source": [
    "def compute_r(c):\n",
    "    \"\"\"\n",
    "    c is the circle center to be evaluated.\n",
    "    Return a list of radii correponding to each point.\n",
    "    \"\"\"\n",
    "    r = np.sqrt((x - c[0]) ** 2 + (y - c[0]) ** 2)\n",
    "    return r"
   ]
  },
  {
   "cell_type": "code",
   "execution_count": 26,
   "metadata": {},
   "outputs": [],
   "source": [
    "def cost(c):\n",
    "    \"\"\"\n",
    "    c is the circle center to be evaluated.\n",
    "    \"\"\"\n",
    "    r = compute_r(c)\n",
    "    return r - r.mean()"
   ]
  },
  {
   "cell_type": "code",
   "execution_count": 27,
   "metadata": {},
   "outputs": [
    {
     "name": "stdout",
     "output_type": "stream",
     "text": [
      "Found center:  [4.78222048 4.76666667]\n"
     ]
    }
   ],
   "source": [
    "import scipy.optimize as optimize\n",
    "# initial guess\n",
    "x0 = np.array([x.mean(), y.mean()])\n",
    "center, found = optimize.leastsq(cost, x0)\n",
    "if found in [1, 2, 3, 4]:\n",
    "    print('Found center: ', center)"
   ]
  },
  {
   "cell_type": "code",
   "execution_count": 28,
   "metadata": {},
   "outputs": [
    {
     "name": "stdout",
     "output_type": "stream",
     "text": [
      "R =  3.3999303221204933\n"
     ]
    }
   ],
   "source": [
    "R2 = compute_r(center).mean()\n",
    "print('R = ', R2)\n",
    "xc2, yc2 = center"
   ]
  },
  {
   "cell_type": "code",
   "execution_count": 29,
   "metadata": {},
   "outputs": [
    {
     "data": {
      "text/plain": [
       "<matplotlib.legend.Legend at 0x156d33b5ba8>"
      ]
     },
     "execution_count": 29,
     "metadata": {},
     "output_type": "execute_result"
    },
    {
     "data": {
      "image/png": "[encoded data removed]",
      "text/plain": [
       "<Figure size 432x432 with 1 Axes>"
      ]
     },
     "metadata": {},
     "output_type": "display_data"
    }
   ],
   "source": [
    "## visualize the results\n",
    "t = np.arange(0, 2*np.pi, 0.01)\n",
    "xm = R * np.cos(t) + xc\n",
    "ym = R * np.sin(t) + yc\n",
    "xm2 = R2 * np.cos(t) + xc2\n",
    "ym2 = R2 * np.sin(t) + yc2\n",
    "\n",
    "fig = plt.figure(figsize=(6, 6))\n",
    "plt.plot(x, y, 'o')\n",
    "plt.plot(xm, ym)\n",
    "plt.plot(xm2, ym2)\n",
    "plt.grid(True)\n",
    "plt.xlim([-2, 12])\n",
    "plt.ylim([-2, 12])\n",
    "plt.xlabel('x')\n",
    "plt.ylabel('y')\n",
    "plt.legend(['data', 'algebraic', 'geometric'])"
   ]
  }
 ],
 "metadata": {
  "kernelspec": {
   "display_name": "Python 3",
   "language": "python",
   "name": "python3"
  },
  "language_info": {
   "codemirror_mode": {
    "name": "ipython",
    "version": 3
   },
   "file_extension": ".py",
   "mimetype": "text/x-python",
   "name": "python",
   "nbconvert_exporter": "python",
   "pygments_lexer": "ipython3",
   "version": "3.6.5"
  }
 },
 "nbformat": 4,
 "nbformat_minor": 2
}
