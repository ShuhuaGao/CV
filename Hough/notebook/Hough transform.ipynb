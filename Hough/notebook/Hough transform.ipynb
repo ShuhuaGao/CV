{
 "cells": [
  {
   "cell_type": "markdown",
   "metadata": {},
   "source": [
    "The Hough transform is a technique which can be used to isolate features of a particular shape within an image. It was originally proposed to detect lines [Richard&Peter, 1971](http://www.ai.sri.com/pubs/files/tn036-duda71.pdf).\n",
    "\n",
    "Tutorials:\n",
    "1. [Hough Transform](http://homepages.inf.ed.ac.uk/rbf/HIPR2/hough.htm)\n",
    "2. [Colorado School of Mines, Hough transform](https://inside.mines.edu/~whoff/courses/EENG512/lectures/13-Hough.pdf)\n",
    "3. [Understanding Hough Transform With Python](https://alyssaq.github.io/2014/understanding-hough-transform/)"
   ]
  },
  {
   "cell_type": "markdown",
   "metadata": {},
   "source": [
    "# Normal form / polar coordinate representation of a line\n",
    "The normal paramters for a line are illustrated below\n",
    "![image](./img/line_normal_form.png)\n",
    "Supposing the line is neither vertical nor horizontal, i.e., the two intercepts are both non-zero, then the slope-intercept representation of the line is \n",
    "\\begin{equation}\n",
    "y = kx + b = -\\frac{y_0}{x_0}x + y_0\n",
    "\\end{equation}\n",
    "From the above figure, where the distance $\\rho\\ge 0$ and the angle $\\theta\\in[0, 2\\pi)$, it is easy to obtain taht \n",
    "\\begin{equation}\n",
    "cos\\theta=\\frac{\\rho}{x_0}, \\quad, sin\\theta=\\frac{\\rho}{y_0}.\n",
    "\\end{equation}\n",
    "Now replacing $x_0$ and $y_0$ with the correponding expression using $\\rho$ and $\\theta$, we can get \n",
    "\\begin{equation}\n",
    "\\rho = xcos\\theta + ysin\\theta.\n",
    "\\end{equation}\n",
    "What's more, it is also straightforward to verify that the above equation holds even when the slope is infinite (vertical line) or the line is horizontal. It is called the **normal form or polar coordinate representation** of a straight line in 2D space.\n",
    "\n",
    "*Why do we use the normal form?*  \n",
    "Because the slope-intercept form can not handle the special case when the line is vertical."
   ]
  },
  {
   "cell_type": "markdown",
   "metadata": {},
   "source": [
    "# Hough transform of lines\n",
    "For each line in the 2D coordinate, it correponds to a single point $(\\theta, \\rho)$ in the parameter space. On the handle, given a single point $p1=(x_1, y_1)$ in the 2D coordinate (or call it image space if we are processing an image), all the possible lines passing through this point are transformed into the parameter space by \n",
    "\\begin{equation}\n",
    "\\rho = x_1 cos\\theta + y_1 sin\\theta.\n",
    "\\end{equation}\n",
    "Using some trigonometry knowledge, we can show that the above equation actually depicts a sinusoidal curve $s_1$ in the parameter space.\n",
    "\n",
    "If we have another point in the original 2D space, $p2=(x_2, y_2)$, then similarly it will yield another sinusoid $s_2$ in the parameter space. More importantly, consider the straight line $l_{12}$ passing through the two points, and it is obvious that $l_{12}$ is also characterized by a pair of unique parameters $(\\theta_{12}, \\rho_{12})$, which should be the common point of $s_1$ and $s_2$. This conclusion can be generalized to any number of points on a single line in the 2D coordinate image space.\n",
    "\n",
    "In other words, if there are multiple points $p_i, i=1,2,\\cdots,m$ on the same line in the image space, then there must exist a certain $\\theta^*$ such that $\\rho^* = x_i cos\\theta^* + y_i sin\\theta^*$ yields the same value for all $i$. And in the parameter space, such a point $(\\theta^*, \\rho^*)$ is just the intersection point of all the $m$ sinusoids in the parameter space.\n",
    "\n",
    "However, in reality, these points, like pixels on an image, are usually corrupted by noise, which means in most cases not all the $m$ points give the same $\\rho$ value for the ideal $\\theta^*$. However, we can be sure that all the generated $\\rho$ values should be quite close for the $\\theta^*$, which is assumed to be known for now. Now the question is that $\\theta^*$ is unknown. \n",
    "\n",
    "Fortunately, since $\\theta$ is bounded, we can test each possible value. Of course, in practice, we have to discretize $\\theta$ to a finite set of values to be examined. Similarly, the value of $\\rho$ is also binned. Now by quantizing the Hough parameter space into finite intervals, we get the so-called *accumulator cell array*. \n",
    "\n",
    "**Algorithm**\n",
    "- Initialize the 2D cell array H by quantizing $\\theta$ and $\\rho$ in a specified range into proper intervals.\n",
    "- For each point $(x_i, y_i)$\n",
    "    - For each discretized $\\theta$ value, compute the corresponding $\\rho = x_i cos\\theta + y_i sin\\theta$.\n",
    "    - Increment (add 1 to) the cell in H corresponding to $(\\theta, \\rho)$, known as *Voting in the accumulator*\n",
    "- Find the local maxima with most votes according to certain criteria, which are concluded as the lines in the original image space.\n",
    "\n",
    "![image](./img/hough-line.png)\n",
    "\n",
    "**Note**\n",
    "- If we state that the distance $\\rho$ can only be positive, then range for the angle $\\theta$ should be $[0, 2\\pi)$.\n",
    "- However, in many libraries, especially for image processing, they define $\\theta \\in [-90^o, 90^o)$ with a unit interval, and as a consequence, the obtained $\\rho$ can be negative. However, these two definitions are actually equivalent. See [hough](https://www.mathworks.com/help/images/ref/hough.html#buwgokq-6) in MATLAB."
   ]
  },
  {
   "cell_type": "code",
   "execution_count": null,
   "metadata": {},
   "outputs": [],
   "source": []
  }
 ],
 "metadata": {
  "kernelspec": {
   "display_name": "Python 3",
   "language": "python",
   "name": "python3"
  },
  "language_info": {
   "codemirror_mode": {
    "name": "ipython",
    "version": 3
   },
   "file_extension": ".py",
   "mimetype": "text/x-python",
   "name": "python",
   "nbconvert_exporter": "python",
   "pygments_lexer": "ipython3",
   "version": "3.6.3"
  }
 },
 "nbformat": 4,
 "nbformat_minor": 2
}
