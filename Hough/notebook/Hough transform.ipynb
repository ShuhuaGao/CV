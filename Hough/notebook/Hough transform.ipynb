{
 "cells": [
  {
   "cell_type": "markdown",
   "metadata": {},
   "source": [
    "The Hough transform is a technique which can be used to isolate features of a particular shape within an image. It was originally proposed to detect lines [Richard&Peter, 1971](http://www.ai.sri.com/pubs/files/tn036-duda71.pdf).\n",
    "\n",
    "Tutorials:\n",
    "1. [Hough Transform](http://homepages.inf.ed.ac.uk/rbf/HIPR2/hough.htm)\n",
    "2. [Colorado School of Mines, Hough transform](https://inside.mines.edu/~whoff/courses/EENG512/lectures/13-Hough.pdf)\n",
    "3. [Understanding Hough Transform With Python](https://alyssaq.github.io/2014/understanding-hough-transform/)\n",
    "4. [Generalize Hough transform to detect arbitrary shapes](http://www.eng.tau.ac.il/~cvapps/Supplement/%5B%201981%20%5D%20Generalizing%20the%20Hough%20Transform%20to%20Detect%20Arbitrary%20Shapes.pdf)"
   ]
  },
  {
   "cell_type": "markdown",
   "metadata": {},
   "source": [
    "# Normal form / polar coordinate representation of a line\n",
    "The normal paramters for a line are illustrated below\n",
    "![image](./img/line_normal_form.png)\n",
    "Supposing the line is neither vertical nor horizontal, i.e., the two intercepts are both non-zero, then the slope-intercept representation of the line is \n",
    "\\begin{equation}\n",
    "y = kx + b = -\\frac{y_0}{x_0}x + y_0\n",
    "\\end{equation}\n",
    "From the above figure, where the distance $\\rho\\ge 0$ and the angle $\\theta\\in[0, 2\\pi)$, it is easy to obtain taht \n",
    "\\begin{equation}\n",
    "cos\\theta=\\frac{\\rho}{x_0}, \\quad, sin\\theta=\\frac{\\rho}{y_0}.\n",
    "\\end{equation}\n",
    "Now replacing $x_0$ and $y_0$ with the correponding expression using $\\rho$ and $\\theta$, we can get \n",
    "\\begin{equation}\n",
    "\\rho = xcos\\theta + ysin\\theta.\n",
    "\\end{equation}\n",
    "What's more, it is also straightforward to verify that the above equation holds even when the slope is infinite (vertical line) or the line is horizontal. It is called the **normal form or polar coordinate representation** of a straight line in 2D space.\n",
    "\n",
    "*Intercept form to normal form*  \n",
    "From the above equation (2), we have \n",
    "\\begin{equation}\n",
    "\\rho^2 = \\frac{x_0^2 y_0^2}{x_0^2 + y_0^2}.\n",
    "\\end{equation}\n",
    "After we get $\\rho$, it is straightforward to get the angle $\\theta$.\n",
    "\n",
    "*Why do we use the normal form?*  \n",
    "Because the slope-intercept form can not handle the special case when the line is vertical."
   ]
  },
  {
   "cell_type": "markdown",
   "metadata": {},
   "source": [
    "# Hough transform of lines\n",
    "For each line in the 2D coordinate, it correponds to a single point $(\\theta, \\rho)$ in the parameter space. On the handle, given a single point $p1=(x_1, y_1)$ in the 2D coordinate (or call it image space if we are processing an image), all the possible lines passing through this point are transformed into the parameter space by \n",
    "\\begin{equation}\n",
    "\\rho = x_1 cos\\theta + y_1 sin\\theta.\n",
    "\\end{equation}\n",
    "Using some trigonometry knowledge, we can show that the above equation actually depicts a sinusoidal curve $s_1$ in the parameter space.\n",
    "\n",
    "If we have another point in the original 2D space, $p2=(x_2, y_2)$, then similarly it will yield another sinusoid $s_2$ in the parameter space. More importantly, consider the straight line $l_{12}$ passing through the two points, and it is obvious that $l_{12}$ is also characterized by a pair of unique parameters $(\\theta_{12}, \\rho_{12})$, which should be the common point of $s_1$ and $s_2$. This conclusion can be generalized to any number of points on a single line in the 2D coordinate image space.\n",
    "\n",
    "In other words, if there are multiple points $p_i, i=1,2,\\cdots,m$ on the same line in the image space, then there must exist a certain $\\theta^*$ such that $\\rho^* = x_i cos\\theta^* + y_i sin\\theta^*$ yields the same value for all $i$. And in the parameter space, such a point $(\\theta^*, \\rho^*)$ is just the intersection point of all the $m$ sinusoids in the parameter space.\n",
    "\n",
    "However, in reality, these points, like pixels on an image, are usually corrupted by noise, which means in most cases not all the $m$ points give the same $\\rho$ value for the ideal $\\theta^*$. However, we can be sure that all the generated $\\rho$ values should be quite close for the $\\theta^*$, which is assumed to be known for now. Now the question is that $\\theta^*$ is unknown. \n",
    "\n",
    "Fortunately, since $\\theta$ is bounded, we can test each possible value. Of course, in practice, we have to discretize $\\theta$ to a finite set of values to be examined. Similarly, the value of $\\rho$ is also binned. Now by quantizing the Hough parameter space into finite intervals, we get the so-called *accumulator cell array*. \n",
    "\n",
    "**Algorithm**\n",
    "- Initialize the 2D cell array H by quantizing $\\theta$ and $\\rho$ in a specified range into proper intervals.\n",
    "- For each point $(x_i, y_i)$\n",
    "    - For each discretized $\\theta$ value, compute the corresponding $\\rho = x_i cos\\theta + y_i sin\\theta$.\n",
    "    - Increment (add 1 to) the cell in H corresponding to $(\\theta, \\rho)$, known as *Voting in the accumulator*\n",
    "- Find the local maxima with most votes according to certain criteria, which are concluded as the lines in the original image space.\n",
    "\n",
    "![image](./img/hough-line.png)\n",
    "\n",
    "## Range of $\\theta$ and $\\rho$\n",
    "In actual implementation, for simplicity and speed, we usually choose the range of the angle $\\theta$ as $[0^\\circ, 180^\\circ)$, while the algebraic distance $\\rho$ can be negative in this case. If $\\rho$ is negative, it simply means we should use the perpendicular distance in the opposite direction.  \n",
    "Regaring $\\rho$, its range is defined according prior knowledge. For example, in image processing, the maximum possible value of $\\rho$ is the length of the diagonal.\n",
    "![image](./img/negative-rho.png)\n",
    "In libraries such as MATLAB and opencv, they may have different definitions of the range of $\\theta$. However, they are actually equivalent."
   ]
  },
  {
   "cell_type": "code",
   "execution_count": 9,
   "metadata": {},
   "outputs": [],
   "source": [
    "import numpy as np\n",
    "import matplotlib.pyplot as plt"
   ]
  },
  {
   "cell_type": "markdown",
   "metadata": {},
   "source": [
    "# A Toy Example for Line Detection\n",
    "In real image processing, the firs step is usually edge detection.  The resultant binary/grey image will have 0s indicating non-edges and 1s or above indicating edges. However, here for simplicity, supposing we have three lines to be detected, 7, 8, 9 points are present for each line respectively. Our task is to adopt Hough transform to find these three lines from all the points.\n",
    "\n",
    "Three lines in two-intercept form:\n",
    "\\begin{align}\n",
    "x + y &= 1 \\\\\n",
    "\\frac{x}{5} + \\frac{y}{-3} &= 1 \\\\\n",
    "\\frac{x}{-8} + \\frac{y}{6} &= 1\n",
    "\\end{align}\n",
    "\n",
    "Let's first assume we know the lines exactly, and compute the corresponding $(\\theta, \\rho)$ parameters.\n",
    "### Ground truth"
   ]
  },
  {
   "cell_type": "code",
   "execution_count": 25,
   "metadata": {},
   "outputs": [],
   "source": [
    "import numpy as np\n",
    "def compute_polar_parameters(x0, y0):\n",
    "    \"\"\"\n",
    "    @param x0 array of x-axis intersects\n",
    "    @param array of y-axis intersects\n",
    "    @return theta (in degrees) and rho (non-negative)\n",
    "    \"\"\"\n",
    "    rho = np.sqrt((x0**2 * y0**2) / (x0**2 + y0**2))\n",
    "    theta = np.arccos(rho / x0)\n",
    "    # np.arccos --> [0, pi]. Now turn it into [0, 2pi]\n",
    "    theta = theta + (y0 < 0) * np.pi\n",
    "    return np.rad2deg(theta), rho"
   ]
  },
  {
   "cell_type": "code",
   "execution_count": 26,
   "metadata": {},
   "outputs": [
    {
     "name": "stdout",
     "output_type": "stream",
     "text": [
      "theta (degree):  [ 45.         239.03624347 126.86989765]\n",
      "rho:  [0.70710678 2.57247878 4.8       ]\n"
     ]
    }
   ],
   "source": [
    "x0 = np.array([1, 5, -8])\n",
    "y0 = np.array([1, -3, 6])\n",
    "theta, rho = compute_polar_parameters(x0, y0)\n",
    "print('theta (degree): ', theta)\n",
    "print('rho: ', rho)"
   ]
  },
  {
   "cell_type": "markdown",
   "metadata": {},
   "source": [
    "### Generate data points\n",
    " 7, 8, 9 points for three lines respectively, with no noise and $x\\in[-20, 20]$.\n",
    " \\begin{equation}\n",
    " \\frac{x}{x_0} + \\frac{y}{y_0} = 1 \\Rightarrow y = -\\frac{y_0}{x_0}x + y_0\n",
    " \\end{equation}"
   ]
  },
  {
   "cell_type": "code",
   "execution_count": 27,
   "metadata": {},
   "outputs": [
    {
     "name": "stdout",
     "output_type": "stream",
     "text": [
      "(24,) (24,)\n"
     ]
    }
   ],
   "source": [
    "np.random.seed(213)\n",
    "x_list = []\n",
    "y_list = []\n",
    "for i, n in enumerate([7, 8, 9]):\n",
    "    xi = np.random.randint(-20, 21, n)\n",
    "    yi = -y0[i] / x0[i] * xi + y0[i]  # ith line\n",
    "    x_list.append(xi)\n",
    "    y_list.append(yi)\n",
    "# concatenate the x and y arrays into single ones: xi and yi are both 1d arrays\n",
    "x = np.hstack(x_list)\n",
    "y = np.hstack(y_list)\n",
    "print(x.shape, y.shape)"
   ]
  },
  {
   "cell_type": "code",
   "execution_count": 28,
   "metadata": {},
   "outputs": [
    {
     "data": {
      "text/plain": [
       "<matplotlib.legend.Legend at 0x28e798d3dd8>"
      ]
     },
     "execution_count": 28,
     "metadata": {},
     "output_type": "execute_result"
    },
    {
     "data": {
      "image/png": "[encoded data removed]",
      "text/plain": [
       "<matplotlib.figure.Figure at 0x28e798efeb8>"
      ]
     },
     "metadata": {},
     "output_type": "display_data"
    }
   ],
   "source": [
    "# visualization\n",
    "fig = plt.figure(figsize=(8, 8))\n",
    "for xi, yi in zip(x_list, y_list):\n",
    "    plt.scatter(x, y)\n",
    "plt.grid(True)\n",
    "plt.xlabel('x')\n",
    "plt.ylabel('y')\n",
    "plt.legend(['l1', 'l2', 'l3'])"
   ]
  },
  {
   "cell_type": "markdown",
   "metadata": {},
   "source": [
    "### Line detection with Hough transform\n",
    "\n",
    "\n",
    "Besides, we know that since the range for both axes is $[-20, 20]$, the maximum possible $\\rho$ is about 28, i.e., $\\rho\\in[-28, 28]$. Let's discretize the two parameters with resolution 1.\n",
    "#### （1） Initialize the accumulator array\n",
    "Let rows denote $\\rho$ and columns denote $\\theta$. Then, we need a 2D array, or *accumulator*, of size $(29, "
   ]
  },
  {
   "cell_type": "code",
   "execution_count": 31,
   "metadata": {},
   "outputs": [],
   "source": [
    "acc = np.zeros((360, 29), dtype=np.int)"
   ]
  },
  {
   "cell_type": "markdown",
   "metadata": {},
   "source": [
    "#### (2) Voting\n",
    "For each point and each quantized $\\theta$ value, compute $\\rho$ and increment the value of the bin at $(\\theta, \\rho)$ by one. The value represents the number of votes. "
   ]
  },
  {
   "cell_type": "code",
   "execution_count": 39,
   "metadata": {},
   "outputs": [
    {
     "name": "stdout",
     "output_type": "stream",
     "text": [
      "0 -14.0\n"
     ]
    },
    {
     "ename": "IndexError",
     "evalue": "only integers, slices (`:`), ellipsis (`...`), numpy.newaxis (`None`) and integer or boolean arrays are valid indices",
     "output_type": "error",
     "traceback": [
      "\u001b[1;31m---------------------------------------------------------------------------\u001b[0m",
      "\u001b[1;31mIndexError\u001b[0m                                Traceback (most recent call last)",
      "\u001b[1;32m<ipython-input-39-d21b68702673>\u001b[0m in \u001b[0;36m<module>\u001b[1;34m()\u001b[0m\n\u001b[0;32m      8\u001b[0m         \u001b[1;31m# increment\u001b[0m\u001b[1;33m\u001b[0m\u001b[1;33m\u001b[0m\u001b[0m\n\u001b[0;32m      9\u001b[0m         \u001b[0mprint\u001b[0m\u001b[1;33m(\u001b[0m\u001b[0mtheta\u001b[0m\u001b[1;33m,\u001b[0m \u001b[0mrho\u001b[0m\u001b[1;33m)\u001b[0m\u001b[1;33m\u001b[0m\u001b[0m\n\u001b[1;32m---> 10\u001b[1;33m         \u001b[0macc\u001b[0m\u001b[1;33m[\u001b[0m\u001b[0mtheta\u001b[0m\u001b[1;33m,\u001b[0m \u001b[0mrho\u001b[0m\u001b[1;33m]\u001b[0m \u001b[1;33m+=\u001b[0m \u001b[1;36m1\u001b[0m\u001b[1;33m\u001b[0m\u001b[0m\n\u001b[0m",
      "\u001b[1;31mIndexError\u001b[0m: only integers, slices (`:`), ellipsis (`...`), numpy.newaxis (`None`) and integer or boolean arrays are valid indices"
     ]
    }
   ],
   "source": [
    "for xp, yp in zip(x, y):\n",
    "    for theta in range(0, 360):\n",
    "        rho = xp * np.cos(theta) + yp * np.sin(theta)\n",
    "        # turn rho into an integer to find the correponding position in accumulator array\n",
    "        rho = np.rint(rho).item()\n",
    "        if rho > 28:\n",
    "            rho = 28\n",
    "        # increment\n",
    "        print(theta, rho)\n",
    "        acc[theta, rho] += 1"
   ]
  },
  {
   "cell_type": "code",
   "execution_count": null,
   "metadata": {},
   "outputs": [],
   "source": []
  }
 ],
 "metadata": {
  "kernelspec": {
   "display_name": "Python 3",
   "language": "python",
   "name": "python3"
  },
  "language_info": {
   "codemirror_mode": {
    "name": "ipython",
    "version": 3
   },
   "file_extension": ".py",
   "mimetype": "text/x-python",
   "name": "python",
   "nbconvert_exporter": "python",
   "pygments_lexer": "ipython3",
   "version": "3.6.3"
  }
 },
 "nbformat": 4,
 "nbformat_minor": 2
}
